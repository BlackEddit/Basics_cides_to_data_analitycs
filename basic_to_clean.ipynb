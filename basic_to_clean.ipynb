{
 "cells": [
  {
   "cell_type": "code",
   "execution_count": 10,
   "metadata": {},
   "outputs": [],
   "source": [
    "#importar algunas librerias que estaremos usando comunmente.\n",
    "import numpy as np\n",
    "import pandas as pd"
   ]
  },
  {
   "cell_type": "code",
   "execution_count": 11,
   "metadata": {},
   "outputs": [],
   "source": [
    "class data_analyst:\n",
    "    def __init__(self , file_name):\n",
    "        self.file_name = file_name # Que sera el atributo, conocido con el nombre del archivo\n",
    "        self.data =  None #Al instanciarlo, le cargaremos los datos respectivos con la libreria Pandas\n",
    "    \n",
    "    \n",
    "    def open_file(self):\n",
    "        \n",
    "        \"\"\"\n",
    "        Function to open files directly with the name, to reduce cost on our code\n",
    "        \"\"\"\n",
    "        try:\n",
    "            if self.file_name.endswith('.csv'):\n",
    "                self.data = pd.read_csv(self.file_name)\n",
    "                #print(f\"Your .csv file was opened sucessfully\")\n",
    "            elif self.file_name.endswith('.xls') or self.file_name.endswith('.xlsx'):\n",
    "                self.data = pd.read_excel(self.file_name)\n",
    "                #print(f'Your .xls / xlsx was opened sucessfully')\n",
    "            else:\n",
    "                print('This file is not valid, please try with one with the ext csv / xls / xlsx ')\n",
    "                \n",
    "        except Exception as e:\n",
    "            print(f\"There is a error trying to open the file, error-code: {e}\")\n",
    "    \n",
    "    def show_rows(self, rows = 10):\n",
    "        \"\"\"\n",
    "        Funcion para mostrar un cabezal, o una cantidad de filas, por defecto esta en 10\n",
    "        Args:\n",
    "            rows (int, optional): _description_. Defaults to 10.\n",
    "        \"\"\"\n",
    "        \n",
    "        #iniciamos con una validacion de que nuestros datos tienen un valor asignado, dado que None es la representacion de la ausencia de valor.\n",
    "        if self.data is not None:\n",
    "            #Retornamos la impresion de las filas, con n valor, que en caos de que no se modifique rows = 10\n",
    "            return self.data.head(rows)\n",
    "        \n",
    "        else:\n",
    "            print(f'There is not a file upload yet')\n",
    "    \n",
    "    def info(self):\n",
    "        \"\"\"Funcion para retornar la funcion info de pandas, con el data_set que cargamos\"\"\"\n",
    "        if self.data is not None:\n",
    "            return self.data.info()\n",
    "        \n",
    "        else:\n",
    "            print(f\"There is not file upload yet\")\n",
    "    \n",
    "    def describe(self):\n",
    "        \n",
    "        \"\"\"Funcion para retornar una descripcion de pandas\"\"\"\n",
    "        if self.data is not None:\n",
    "            return self.data.describe()\n",
    "        \n",
    "        else:\n",
    "            print(\"There is not file upload yet\")\n",
    "    \n",
    "    def show_columns_names(self):\n",
    "        \"\"\" Muestra y retorna el nombre de las columnas, las retorna en una lista-\"\"\"\n",
    "        cols = [] # Se crea un lista para guardar el nombre de las columnas, la retornaremos en caso de querer usarla\n",
    "        if self.data is not None:\n",
    "            print(\"There is the name of the columns\")\n",
    "            for col in self.data.columns:\n",
    "                print(col)\n",
    "                cols.append(col)\n",
    "        else:\n",
    "            print('No hay columas en tu data_frame')\n",
    "        \n",
    "        return cols\n",
    "    \n",
    "    def rename_columns(self, actual_name, new_name):\n",
    "        \n",
    "        #Comenzamos validando la existencia de datos en nuestro data frame\n",
    "        if self.data is not None:\n",
    "            \n",
    "            if actual_name in self.data.columns:\n",
    "                self.data.rename(columns={actual_name: new_name}, inplace = True)\n",
    "                print(f'The column \"{actual_name}\" was renamed as \"{new_name}\"')\n",
    "            else:\n",
    "                print(f'There is not a colum named as \"{actual_name}\"')\n",
    "        else:\n",
    "            print(f\"There is file/ dataframe upload yet\")"
   ]
  },
  {
   "cell_type": "code",
   "execution_count": 12,
   "metadata": {},
   "outputs": [
    {
     "name": "stdout",
     "output_type": "stream",
     "text": [
      "There is a error trying to open the file, error-code: [Errno 2] No such file or directory: 'self.file_name'\n"
     ]
    }
   ],
   "source": [
    "# En primera forma lo instanciamos\n",
    "Oppenhim_File = data_analyst(\"imdb_oppenhimmer_Uncleaned.csv\")\n",
    "\n",
    "Oppenhim_File.open_file()"
   ]
  }
 ],
 "metadata": {
  "kernelspec": {
   "display_name": "Python 3",
   "language": "python",
   "name": "python3"
  },
  "language_info": {
   "codemirror_mode": {
    "name": "ipython",
    "version": 3
   },
   "file_extension": ".py",
   "mimetype": "text/x-python",
   "name": "python",
   "nbconvert_exporter": "python",
   "pygments_lexer": "ipython3",
   "version": "3.11.2"
  },
  "orig_nbformat": 4
 },
 "nbformat": 4,
 "nbformat_minor": 2
}
