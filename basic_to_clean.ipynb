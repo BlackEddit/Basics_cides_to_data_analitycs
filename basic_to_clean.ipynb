{
 "cells": [
  {
   "cell_type": "code",
   "execution_count": 10,
   "metadata": {},
   "outputs": [],
   "source": [
    "#importar algunas librerias que estaremos usando comunmente.\n",
    "import numpy as np\n",
    "import pandas as pd"
   ]
  },
  {
   "cell_type": "code",
   "execution_count": 16,
   "metadata": {},
   "outputs": [],
   "source": [
    "class data_analyst:\n",
    "    def __init__(self , file_name):\n",
    "        self.file_name = file_name # Que sera el atributo, conocido con el nombre del archivo\n",
    "        self.data =  None #Al instanciarlo, le cargaremos los datos respectivos con la libreria Pandas\n",
    "    \n",
    "    #De aqui en adelante son los metods\n",
    "    \n",
    "    def open_file(self):\n",
    "        \n",
    "        \"\"\"\n",
    "        Function to open files directly with the name, to reduce cost on our code\n",
    "        \"\"\"\n",
    "        try:\n",
    "            if self.file_name.endswith('.csv'):\n",
    "                self.data = pd.read_csv(self.file_name)\n",
    "                #print(f\"Your .csv file was opened sucessfully\")\n",
    "            elif self.file_name.endswith('.xls') or self.file_name.endswith('.xlsx'):\n",
    "                self.data = pd.read_excel(self.file_name)\n",
    "                #print(f'Your .xls / xlsx was opened sucessfully')\n",
    "            else:\n",
    "                print('This file is not valid, please try with one with the ext csv / xls / xlsx ')\n",
    "                \n",
    "        except Exception as e:\n",
    "            print(f\"There is a error trying to open the file, error-code: {e}\")\n",
    "    \n",
    "    def show_rows(self, rows = 10):\n",
    "        \"\"\"\n",
    "        Funcion para mostrar un cabezal, o una cantidad de filas, por defecto esta en 10\n",
    "        Args:\n",
    "            rows (int, optional): _description_. Defaults to 10.\n",
    "        \"\"\"\n",
    "        \n",
    "        #iniciamos con una validacion de que nuestros datos tienen un valor asignado, dado que None es la representacion de la ausencia de valor.\n",
    "        if self.data is not None:\n",
    "            #Retornamos la impresion de las filas, con n valor, que en caos de que no se modifique rows = 10\n",
    "            return self.data.head(rows)\n",
    "        \n",
    "        else:\n",
    "            print(f'There is not a file upload yet')\n",
    "    \n",
    "    def info(self):\n",
    "        \"\"\"Funcion para retornar la funcion info de pandas, con el data_set que cargamos\"\"\"\n",
    "        if self.data is not None:\n",
    "            return self.data.info()\n",
    "        \n",
    "        else:\n",
    "            print(f\"There is not file upload yet\")\n",
    "    \n",
    "    def describe(self):\n",
    "        \n",
    "        \"\"\"Funcion para retornar una descripcion de pandas\"\"\"\n",
    "        if self.data is not None:\n",
    "            return self.data.describe()\n",
    "        \n",
    "        else:\n",
    "            print(\"There is not file upload yet\")\n",
    "    \n",
    "    def show_columns_names(self):\n",
    "        \"\"\" Muestra y retorna el nombre de las columnas, las retorna en una lista-\"\"\"\n",
    "        cols = [] # Se crea un lista para guardar el nombre de las columnas, la retornaremos en caso de querer usarla\n",
    "        if self.data is not None:\n",
    "            print(\"There is the name of the columns\")\n",
    "            for col in self.data.columns:\n",
    "                print(col)\n",
    "                cols.append(col)\n",
    "        else:\n",
    "            print('No hay columas en tu data_frame')\n",
    "        \n",
    "        return cols\n",
    "    \n",
    "    def rename_columns(self, actual_name, new_name):\n",
    "        \n",
    "        #Comenzamos validando la existencia de datos en nuestro data frame\n",
    "        if self.data is not None:\n",
    "            \n",
    "            if actual_name in self.data.columns:\n",
    "                self.data.rename(columns={actual_name: new_name}, inplace = True)\n",
    "                print(f'The column \"{actual_name}\" was renamed as \"{new_name}\"')\n",
    "            else:\n",
    "                print(f'There is not a colum named as \"{actual_name}\"')\n",
    "        else:\n",
    "            print(f\"There is file/ dataframe upload yet\")\n",
    "    \n",
    "    def unique_values(self):\n",
    "        \n",
    "        if self.data is not None:  \n",
    "            # Dictionary Comprehension para obtener el conteo de valores únicos en cada columna.\n",
    "            # - 'col' es el nombre de la columna actual en 'self.data.columns'.\n",
    "            # - La clave del diccionario es 'col'.\n",
    "            # - El valor es el número de elementos únicos en la columna, obtenido con 'self.data[col].nunique()'.\n",
    "            #usare un dict comprehencion, para practicar esta estructura\n",
    "            unique_values = {col : self.data[col].nunique() for col in self.data.columns}\n",
    "            \n",
    "            # Iterando sobre el diccionario 'unique_values'.\n",
    "            # - 'col' representa el nombre de la columna actual.\n",
    "            # - 'count' representa el número de valores únicos de esa columna.\n",
    "            # Utilizamos f-strings para imprimir de manera ordenada la columna y su número de valores únicos.\n",
    "            for col, count in unique_values.items():\n",
    "                print(f\"Columna: {col} -> Valores Únicos: {count}\")\n",
    "        else:\n",
    "            print(f'There is not file upload yet') \n",
    "            \n",
    "#Creacion de proyectos\n",
    "    "
   ]
  },
  {
   "cell_type": "code",
   "execution_count": 21,
   "metadata": {},
   "outputs": [
    {
     "name": "stdout",
     "output_type": "stream",
     "text": [
      "Columna: 9/10\n",
      "Murphy is exceptional\n",
      "Orlando_Gardner19 July 2023\n",
      "You'll have to have your wits about you and your brain fully switched on watching Oppenheimer as it could easily get away from a nonattentive viewer. This is intelligent filmmaking which shows it's audience great respect. It fires dialogue packed with information at a relentless pace and jumps to very different times in Oppenheimer's life continuously through it's 3 hour runtime. There are visual clues to guide the viewer through these times but again you'll have to get to grips with these quite quickly. This relentlessness helps to express the urgency with which the US attacked it's chase for the atomic bomb before Germany could do the same. An absolute career best performance from (the consistenly brilliant) Cillian Murphy anchors the film. This is a nailed on Oscar performance. In fact the whole cast are fantastic (apart maybe for the sometimes overwrought Emily Blunt performance). RDJ is also particularly brilliant in a return to proper acting after his decade or so of calling it in. The screenplay is dense and layered (I'd say it was a thick as a Bible), cinematography is quite stark and spare for the most part but imbued with rich, lucious colour in moments (especially scenes with Florence Pugh), the score is beautiful at times but mostly anxious and oppressive, adding to the relentless pacing. The 3 hour runtime flies by. All in all I found it an intense, taxing but highly rewarding watch. This is film making at it finest. A really great watch.\n",
      "1,413 out of 1,597 found this helpful. Was this review helpful? Sign in to vote.\n",
      "Permalink<>? -> Valores Únicos: 2036\n",
      "There is the name of the columns\n",
      "9/10\n",
      "Murphy is exceptional\n",
      "Orlando_Gardner19 July 2023\n",
      "You'll have to have your wits about you and your brain fully switched on watching Oppenheimer as it could easily get away from a nonattentive viewer. This is intelligent filmmaking which shows it's audience great respect. It fires dialogue packed with information at a relentless pace and jumps to very different times in Oppenheimer's life continuously through it's 3 hour runtime. There are visual clues to guide the viewer through these times but again you'll have to get to grips with these quite quickly. This relentlessness helps to express the urgency with which the US attacked it's chase for the atomic bomb before Germany could do the same. An absolute career best performance from (the consistenly brilliant) Cillian Murphy anchors the film. This is a nailed on Oscar performance. In fact the whole cast are fantastic (apart maybe for the sometimes overwrought Emily Blunt performance). RDJ is also particularly brilliant in a return to proper acting after his decade or so of calling it in. The screenplay is dense and layered (I'd say it was a thick as a Bible), cinematography is quite stark and spare for the most part but imbued with rich, lucious colour in moments (especially scenes with Florence Pugh), the score is beautiful at times but mostly anxious and oppressive, adding to the relentless pacing. The 3 hour runtime flies by. All in all I found it an intense, taxing but highly rewarding watch. This is film making at it finest. A really great watch.\n",
      "1,413 out of 1,597 found this helpful. Was this review helpful? Sign in to vote.\n",
      "Permalink<>?\n"
     ]
    }
   ],
   "source": [
    "# En primera forma lo instanciamos\n",
    "Oppenhim_File = data_analyst(\"imdb_oppenhimmer_Uncleaned.csv\") # Instanciacion de objeto open\n",
    "\n",
    "Oppenhim_File.open_file()\n",
    "\n",
    "Oppenhim_File.unique_values()\n",
    "\n",
    "columns_names = Oppenhim_File.show_columns_names()"
   ]
  },
  {
   "cell_type": "code",
   "execution_count": 23,
   "metadata": {},
   "outputs": [
    {
     "name": "stdout",
     "output_type": "stream",
     "text": [
      "9/10\n",
      "Murphy is exceptional\n",
      "Orlando_Gardner19 July 2023\n",
      "You'll have to have your wits about you and your brain fully switched on watching Oppenheimer as it could easily get away from a nonattentive viewer. This is intelligent filmmaking which shows it's audience great respect. It fires dialogue packed with information at a relentless pace and jumps to very different times in Oppenheimer's life continuously through it's 3 hour runtime. There are visual clues to guide the viewer through these times but again you'll have to get to grips with these quite quickly. This relentlessness helps to express the urgency with which the US attacked it's chase for the atomic bomb before Germany could do the same. An absolute career best performance from (the consistenly brilliant) Cillian Murphy anchors the film. This is a nailed on Oscar performance. In fact the whole cast are fantastic (apart maybe for the sometimes overwrought Emily Blunt performance). RDJ is also particularly brilliant in a return to proper acting after his decade or so of calling it in. The screenplay is dense and layered (I'd say it was a thick as a Bible), cinematography is quite stark and spare for the most part but imbued with rich, lucious colour in moments (especially scenes with Florence Pugh), the score is beautiful at times but mostly anxious and oppressive, adding to the relentless pacing. The 3 hour runtime flies by. All in all I found it an intense, taxing but highly rewarding watch. This is film making at it finest. A really great watch.\n",
      "1,413 out of 1,597 found this helpful. Was this review helpful? Sign in to vote.\n",
      "Permalink<>?\n"
     ]
    }
   ],
   "source": [
    "#Un nombre bastante grande para mi gusto\n",
    "print(columns_names[0])\n"
   ]
  },
  {
   "cell_type": "code",
   "execution_count": 24,
   "metadata": {},
   "outputs": [
    {
     "name": "stdout",
     "output_type": "stream",
     "text": [
      "The column \"9/10\n",
      "Murphy is exceptional\n",
      "Orlando_Gardner19 July 2023\n",
      "You'll have to have your wits about you and your brain fully switched on watching Oppenheimer as it could easily get away from a nonattentive viewer. This is intelligent filmmaking which shows it's audience great respect. It fires dialogue packed with information at a relentless pace and jumps to very different times in Oppenheimer's life continuously through it's 3 hour runtime. There are visual clues to guide the viewer through these times but again you'll have to get to grips with these quite quickly. This relentlessness helps to express the urgency with which the US attacked it's chase for the atomic bomb before Germany could do the same. An absolute career best performance from (the consistenly brilliant) Cillian Murphy anchors the film. This is a nailed on Oscar performance. In fact the whole cast are fantastic (apart maybe for the sometimes overwrought Emily Blunt performance). RDJ is also particularly brilliant in a return to proper acting after his decade or so of calling it in. The screenplay is dense and layered (I'd say it was a thick as a Bible), cinematography is quite stark and spare for the most part but imbued with rich, lucious colour in moments (especially scenes with Florence Pugh), the score is beautiful at times but mostly anxious and oppressive, adding to the relentless pacing. The 3 hour runtime flies by. All in all I found it an intense, taxing but highly rewarding watch. This is film making at it finest. A really great watch.\n",
      "1,413 out of 1,597 found this helpful. Was this review helpful? Sign in to vote.\n",
      "Permalink<>?\" was renamed as \"Qualifity\"\n"
     ]
    }
   ],
   "source": [
    "Oppenhim_File.rename_columns(columns_names[0], \"Qualifity\")"
   ]
  },
  {
   "cell_type": "code",
   "execution_count": 26,
   "metadata": {},
   "outputs": [
    {
     "data": {
      "text/html": [
       "<div>\n",
       "<style scoped>\n",
       "    .dataframe tbody tr th:only-of-type {\n",
       "        vertical-align: middle;\n",
       "    }\n",
       "\n",
       "    .dataframe tbody tr th {\n",
       "        vertical-align: top;\n",
       "    }\n",
       "\n",
       "    .dataframe thead th {\n",
       "        text-align: right;\n",
       "    }\n",
       "</style>\n",
       "<table border=\"1\" class=\"dataframe\">\n",
       "  <thead>\n",
       "    <tr style=\"text-align: right;\">\n",
       "      <th></th>\n",
       "      <th>Qualifity</th>\n",
       "    </tr>\n",
       "  </thead>\n",
       "  <tbody>\n",
       "    <tr>\n",
       "      <th>0</th>\n",
       "      <td>8/10\\nA challenging watch to be sure, but a wo...</td>\n",
       "    </tr>\n",
       "    <tr>\n",
       "      <th>1</th>\n",
       "      <td>10/10\\nA brilliantly layered examination of a ...</td>\n",
       "    </tr>\n",
       "    <tr>\n",
       "      <th>2</th>\n",
       "      <td>10/10\\nNolan delivers a powerfull biopic that ...</td>\n",
       "    </tr>\n",
       "    <tr>\n",
       "      <th>3</th>\n",
       "      <td>10/10\\nA Masterpiece\\nmohameddawoud-2601919 Ju...</td>\n",
       "    </tr>\n",
       "    <tr>\n",
       "      <th>4</th>\n",
       "      <td>10/10\\nAnd the Oscar goes to...\\nmark-217-3070...</td>\n",
       "    </tr>\n",
       "    <tr>\n",
       "      <th>5</th>\n",
       "      <td>10/10\\nAnother Cinematic Masterpiece by Christ...</td>\n",
       "    </tr>\n",
       "    <tr>\n",
       "      <th>6</th>\n",
       "      <td>8/10\\nThis movie is the bomb!\\nzeki-420 July 2...</td>\n",
       "    </tr>\n",
       "    <tr>\n",
       "      <th>7</th>\n",
       "      <td>9/10\\nExceptional storytelling and Genius Cina...</td>\n",
       "    </tr>\n",
       "    <tr>\n",
       "      <th>8</th>\n",
       "      <td>10/10\\nFUTURE CLASSIC and EXTREMELY IMPORTANT ...</td>\n",
       "    </tr>\n",
       "    <tr>\n",
       "      <th>9</th>\n",
       "      <td>8/10\\nIs it just me ?\\npdean-4913221 July 2023...</td>\n",
       "    </tr>\n",
       "  </tbody>\n",
       "</table>\n",
       "</div>"
      ],
      "text/plain": [
       "                                           Qualifity\n",
       "0  8/10\\nA challenging watch to be sure, but a wo...\n",
       "1  10/10\\nA brilliantly layered examination of a ...\n",
       "2  10/10\\nNolan delivers a powerfull biopic that ...\n",
       "3  10/10\\nA Masterpiece\\nmohameddawoud-2601919 Ju...\n",
       "4  10/10\\nAnd the Oscar goes to...\\nmark-217-3070...\n",
       "5  10/10\\nAnother Cinematic Masterpiece by Christ...\n",
       "6  8/10\\nThis movie is the bomb!\\nzeki-420 July 2...\n",
       "7  9/10\\nExceptional storytelling and Genius Cina...\n",
       "8  10/10\\nFUTURE CLASSIC and EXTREMELY IMPORTANT ...\n",
       "9  8/10\\nIs it just me ?\\npdean-4913221 July 2023..."
      ]
     },
     "execution_count": 26,
     "metadata": {},
     "output_type": "execute_result"
    }
   ],
   "source": [
    "Oppenhim_File.show_rows()"
   ]
  }
 ],
 "metadata": {
  "kernelspec": {
   "display_name": "Python 3",
   "language": "python",
   "name": "python3"
  },
  "language_info": {
   "codemirror_mode": {
    "name": "ipython",
    "version": 3
   },
   "file_extension": ".py",
   "mimetype": "text/x-python",
   "name": "python",
   "nbconvert_exporter": "python",
   "pygments_lexer": "ipython3",
   "version": "3.11.2"
  },
  "orig_nbformat": 4
 },
 "nbformat": 4,
 "nbformat_minor": 2
}
